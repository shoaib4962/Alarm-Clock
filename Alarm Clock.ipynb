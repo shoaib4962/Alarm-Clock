{
 "cells": [
  {
   "cell_type": "code",
   "execution_count": 2,
   "metadata": {},
   "outputs": [
    {
     "name": "stdout",
     "output_type": "stream",
     "text": [
      "Set a time for the alarm (Ex. 06:30 or 18:30:00)\n",
      ">> 12:30\n",
      "Alarm set to go off in 0:00:25\n",
      "Wake Up!\n"
     ]
    },
    {
     "data": {
      "text/plain": [
       "True"
      ]
     },
     "execution_count": 2,
     "metadata": {},
     "output_type": "execute_result"
    }
   ],
   "source": [
    "# Alarm Clock\n",
    "\n",
    "import datetime\n",
    "import os\n",
    "import time\n",
    "import random\n",
    "import webbrowser\n",
    "# If video URL file does not exist, create one\n",
    "if not os.path.isfile(\"Engr shoaib Facebook page \"):\n",
    "    print('Creating \"Engr shoaib Facebook page \"...')\n",
    "    with open(\"Engr shoaib Facebook page \", \"w\") as alarm_file:\n",
    "        alarm_file.write(\"https://web.facebook.com/engr.4962\")\n",
    "def check_alarm_input(alarm_time):\n",
    "    \"\"\"Checks to see if the user has entered in a valid alarm time\"\"\"\n",
    "    if len(alarm_time) == 1: # [Hour] Format\n",
    "        if alarm_time[0] < 24 and alarm_time[0] >= 0:\n",
    "            return True\n",
    "    if len(alarm_time) == 2: # [Hour:Minute] Format\n",
    "        if alarm_time[0] < 24 and alarm_time[0] >= 0 and \\\n",
    "           alarm_time[1] < 60 and alarm_time[1] >= 0:\n",
    "            return True\n",
    "    elif len(alarm_time) == 3: # [Hour:Minute:Second] Format\n",
    "        if alarm_time[0] < 24 and alarm_time[0] >= 0 and \\\n",
    "           alarm_time[1] < 60 and alarm_time[1] >= 0 and \\\n",
    "           alarm_time[2] < 60 and alarm_time[2] >= 0:\n",
    "            return True\n",
    "    return False\n",
    "# Get user input for the alarm time\n",
    "print(\"Set a time for the alarm (Ex. 06:30 or 18:30:00)\")\n",
    "while True:\n",
    "    alarm_input = input(\">> \")\n",
    "    try:\n",
    "        alarm_time = [int(n) for n in alarm_input.split(\":\")]\n",
    "        if check_alarm_input(alarm_time):\n",
    "            break\n",
    "        else:\n",
    "            raise ValueError\n",
    "    except ValueError:\n",
    "        print(\"ERROR: Enter time in HH:MM or HH:MM:SS format\")\n",
    "# Convert the alarm time from [H:M] or [H:M:S] to seconds\n",
    "seconds_hms = [3600, 60, 1] # Number of seconds in an Hour, Minute, and Second\n",
    "alarm_seconds = sum([a*b for a,b in zip(seconds_hms[:len(alarm_time)], alarm_time)])\n",
    "# Get the current time of day in seconds\n",
    "now = datetime.datetime.now()\n",
    "current_time_seconds = sum([a*b for a,b in zip(seconds_hms, [now.hour, now.minute, now.second])])\n",
    "# Calculate the number of seconds until alarm goes off\n",
    "time_diff_seconds = alarm_seconds - current_time_seconds\n",
    "# If time difference is negative, set alarm for next day\n",
    "if time_diff_seconds < 0:\n",
    "    time_diff_seconds += 86400 # number of seconds in a day\n",
    "# Display the amount of time until the alarm goes off\n",
    "print(\"Alarm set to go off in %s\" % datetime.timedelta(seconds=time_diff_seconds))\n",
    "# Sleep until the alarm goes off\n",
    "time.sleep(time_diff_seconds)\n",
    "# Time for the alarm to go off\n",
    "print(\"Wake Up!\")\n",
    "# Load list of possible video URLs\n",
    "with open(\"Engr shoaib Facebook page\", \"r\") as alarm_file:\n",
    "    videos = alarm_file.readlines()\n",
    "# Open a random video from the list\n",
    "webbrowser.open(random.choice(videos))"
   ]
  },
  {
   "cell_type": "code",
   "execution_count": null,
   "metadata": {},
   "outputs": [],
   "source": []
  }
 ],
 "metadata": {
  "kernelspec": {
   "display_name": "Python 3",
   "language": "python",
   "name": "python3"
  },
  "language_info": {
   "codemirror_mode": {
    "name": "ipython",
    "version": 3
   },
   "file_extension": ".py",
   "mimetype": "text/x-python",
   "name": "python",
   "nbconvert_exporter": "python",
   "pygments_lexer": "ipython3",
   "version": "3.7.4"
  }
 },
 "nbformat": 4,
 "nbformat_minor": 2
}
